{
  "nbformat": 4,
  "nbformat_minor": 0,
  "metadata": {
    "colab": {
      "provenance": [],
      "authorship_tag": "ABX9TyOv89KGo1RKo85NEp2pUKql"
    },
    "kernelspec": {
      "name": "python3",
      "display_name": "Python 3"
    },
    "language_info": {
      "name": "python"
    }
  },
  "cells": [
    {
      "cell_type": "code",
      "source": [
        "import openai\n",
        "\n",
        "# Read API key from api.txt\n",
        "with open(\"/api_key.txt\", 'r') as file:\n",
        "    api_key = file.read().strip()\n",
        "\n",
        "# Set the OpenAI API key\n",
        "openai.api_key = api_key\n",
        "\n",
        "def process_text(text_path):\n",
        "    # Implement your text processing logic here\n",
        "    with open(text_path, 'r') as file:\n",
        "        text = file.read()\n",
        "    return text\n",
        "\n",
        "def process_resume(resume_path):\n",
        "    # Implement your resume processing logic here\n",
        "    with open(resume_path, 'r') as file:\n",
        "        resume_data = file.read()  # Replace with your actual resume processing\n",
        "    return resume_data\n",
        "\n",
        "if __name__ == \"__main__\":\n",
        "    # Provide the path to your actual files\n",
        "    writing_sample_path = \"/writing_sample.txt\"\n",
        "    resume_path = \"/resume.txt\"\n",
        "    job_description_path = \"/job_description.txt\"\n",
        "\n",
        "    # Process the data\n",
        "    writing_sample = process_text(writing_sample_path)\n",
        "    resume_data = process_resume(resume_path)\n",
        "    with open(job_description_path, 'r') as file:\n",
        "        job_description = file.read()\n",
        "\n",
        "    # Craft the prompt\n",
        "    prompt = f\"\"\"\n",
        "    Generate a cover letter for the following job description:\n",
        "\n",
        "    {job_description}\n",
        "\n",
        "    Using my resume and writing style, create a cover letter that reflects my skills, experiences, and eagerness to contribute to this role. Ensure the tone and style align with my writing sample.\n",
        "    \"\"\"\n",
        "\n",
        "    # Combine input for AI\n",
        "    ai_input = f\"{writing_sample}\\n\\nResume Data:\\n{resume_data}\\n\\nJob Description:\\n{job_description}\\n\\nPrompt:\\n{prompt}\"\n",
        "\n",
        "    # Print the combined input for testing\n",
        "    #print(\"AI Input:\")\n",
        "    #print(ai_input)\n",
        "\n",
        "    # Make the API call using the new syntax\n",
        "    request = openai.api_request(\n",
        "        model=\"gpt-3.6-turbo\",\n",
        "        prompt=ai_input,\n",
        "        max_tokens=4000,\n",
        "        temperature=0.7\n",
        "    )\n",
        "\n",
        "    response = request.get()\n",
        "\n",
        "    # Access the generated text\n",
        "    generated_cover_letter = response.json()[\"choices\"][0][\"message\"][\"content\"]\n",
        "\n",
        "    # Print the generated cover letter\n",
        "    print(\"\\nGenerated Cover Letter:\")\n",
        "    print(generated_cover_letter)\n"
      ],
      "metadata": {
        "id": "aXXMwo-l7WsB"
      },
      "execution_count": null,
      "outputs": []
    }
  ]
}