{
  "nbformat": 4,
  "nbformat_minor": 0,
  "metadata": {
    "colab": {
      "provenance": [],
      "authorship_tag": "ABX9TyMdSzybPHombz3nOLKWeM2c",
      "include_colab_link": true
    },
    "kernelspec": {
      "name": "python3",
      "display_name": "Python 3"
    },
    "language_info": {
      "name": "python"
    }
  },
  "cells": [
    {
      "cell_type": "markdown",
      "metadata": {
        "id": "view-in-github",
        "colab_type": "text"
      },
      "source": [
        "<a href=\"https://colab.research.google.com/github/James-Winslow/Cover-Letter-Builder/blob/main/Cover-Letter-Builder.ipynb\" target=\"_parent\"><img src=\"https://colab.research.google.com/assets/colab-badge.svg\" alt=\"Open In Colab\"/></a>"
      ]
    },
    {
      "cell_type": "code",
      "execution_count": 3,
      "metadata": {
        "colab": {
          "base_uri": "https://localhost:8080/",
          "height": 286
        },
        "id": "bDfXvzVbxBDx",
        "outputId": "d9d1650c-4a3c-49a1-c26a-8e80ca6c8b01"
      },
      "outputs": [
        {
          "output_type": "error",
          "ename": "FileNotFoundError",
          "evalue": "[Errno 2] No such file or directory: '/Users/jameswinslow/Data_Science_Projects/AI-Cover-Letter-Generator/Data/api_key.txt'",
          "traceback": [
            "\u001b[0;31m---------------------------------------------------------------------------\u001b[0m",
            "\u001b[0;31mFileNotFoundError\u001b[0m                         Traceback (most recent call last)",
            "\u001b[0;32m<ipython-input-3-eca00ec95ce8>\u001b[0m in \u001b[0;36m<cell line: 4>\u001b[0;34m()\u001b[0m\n\u001b[1;32m      2\u001b[0m \u001b[0;34m\u001b[0m\u001b[0m\n\u001b[1;32m      3\u001b[0m \u001b[0;31m# Read API key from api.txt\u001b[0m\u001b[0;34m\u001b[0m\u001b[0;34m\u001b[0m\u001b[0m\n\u001b[0;32m----> 4\u001b[0;31m \u001b[0;32mwith\u001b[0m \u001b[0mopen\u001b[0m\u001b[0;34m(\u001b[0m\u001b[0;34m\"/Users/jameswinslow/Data_Science_Projects/AI-Cover-Letter-Generator/Data/api_key.txt\"\u001b[0m\u001b[0;34m,\u001b[0m \u001b[0;34m'r'\u001b[0m\u001b[0;34m)\u001b[0m \u001b[0;32mas\u001b[0m \u001b[0mfile\u001b[0m\u001b[0;34m:\u001b[0m\u001b[0;34m\u001b[0m\u001b[0;34m\u001b[0m\u001b[0m\n\u001b[0m\u001b[1;32m      5\u001b[0m     \u001b[0mapi_key\u001b[0m \u001b[0;34m=\u001b[0m \u001b[0mfile\u001b[0m\u001b[0;34m.\u001b[0m\u001b[0mread\u001b[0m\u001b[0;34m(\u001b[0m\u001b[0;34m)\u001b[0m\u001b[0;34m.\u001b[0m\u001b[0mstrip\u001b[0m\u001b[0;34m(\u001b[0m\u001b[0;34m)\u001b[0m\u001b[0;34m\u001b[0m\u001b[0;34m\u001b[0m\u001b[0m\n\u001b[1;32m      6\u001b[0m \u001b[0;34m\u001b[0m\u001b[0m\n",
            "\u001b[0;31mFileNotFoundError\u001b[0m: [Errno 2] No such file or directory: '/Users/jameswinslow/Data_Science_Projects/AI-Cover-Letter-Generator/Data/api_key.txt'"
          ]
        }
      ],
      "source": [
        "\n",
        "import openai\n",
        "\n",
        "# Read API key from api.txt\n",
        "with open(\"/Users/jameswinslow/Data_Science_Projects/AI-Cover-Letter-Generator/Data/api_key.txt\", 'r') as file:\n",
        "    api_key = file.read().strip()\n",
        "\n",
        "# Set the OpenAI API key\n",
        "openai.api_key = api_key\n",
        "\n",
        "def process_text(text_path):\n",
        "    # Implement your text processing logic here\n",
        "    with open(text_path, 'r') as file:\n",
        "        text = file.read()\n",
        "    return text\n",
        "\n",
        "def process_resume(resume_path):\n",
        "    # Implement your resume processing logic here\n",
        "    with open(resume_path, 'r') as file:\n",
        "        resume_data = file.read()  # Replace with your actual resume processing\n",
        "    return resume_data\n",
        "\n",
        "if __name__ == \"__main__\":\n",
        "    # Provide the path to your actual files\n",
        "    writing_sample_path = \"/Users/jameswinslow/Data_Science_Projects/AI-Cover-Letter-Generator/Data/writing_sample.txt\"\n",
        "    resume_path = \"/Users/jameswinslow/Data_Science_Projects/AI-Cover-Letter-Generator/Data/resume.txt\"\n",
        "    job_description_path = \"/Users/jameswinslow/Data_Science_Projects/AI-Cover-Letter-Generator/Data/job_description.txt\"\n",
        "\n",
        "    # Process the data\n",
        "    writing_sample = process_text(writing_sample_path)\n",
        "    resume_data = process_resume(resume_path)\n",
        "    with open(job_description_path, 'r') as file:\n",
        "        job_description = file.read()\n",
        "\n",
        "    # Craft the prompt\n",
        "    prompt = f\"\"\"\n",
        "    Generate a cover letter for the following job description:\n",
        "\n",
        "    {job_description}\n",
        "\n",
        "    Using my resume and writing style, create a cover letter that reflects my skills, experiences, and eagerness to contribute to this role. Ensure the tone and style align with my writing sample.\n",
        "    \"\"\"\n",
        "\n",
        "    # Combine input for AI\n",
        "    ai_input = f\"{writing_sample}\\n\\nResume Data:\\n{resume_data}\\n\\nJob Description:\\n{job_description}\\n\\nPrompt:\\n{prompt}\"\n",
        "\n",
        "    # Print the combined input for testing\n",
        "    print(\"AI Input:\")\n",
        "    print(ai_input)\n",
        "\n",
        "    # Make API call to ChatGPT 3.6\n",
        "    response = openai.ChatCompletion.create(\n",
        "        model=\"gpt-3.6-turbo\",\n",
        "        prompt=ai_input,\n",
        "        max_tokens=400,\n",
        "        temperature=0.7\n",
        "    )\n",
        "\n",
        "    # Access the generated text\n",
        "    generated_cover_letter = response.choices[0].message.content\n",
        "\n",
        "    # Print the generated cover letter\n",
        "    print(\"\\nGenerated Cover Letter:\")\n",
        "    print(generated_cover_letter)"
      ]
    },
    {
      "cell_type": "code",
      "source": [],
      "metadata": {
        "id": "Q_sks0UjxMH3"
      },
      "execution_count": null,
      "outputs": []
    }
  ]
}